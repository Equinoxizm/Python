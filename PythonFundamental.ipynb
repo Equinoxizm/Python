{
 "cells": [
  {
   "cell_type": "code",
   "execution_count": 1,
   "id": "5d6bf7cd-a301-4707-814e-da7c5a9f23a2",
   "metadata": {},
   "outputs": [
    {
     "name": "stdout",
     "output_type": "stream",
     "text": [
      "hello\n"
     ]
    }
   ],
   "source": [
    "print(\"hello\")"
   ]
  },
  {
   "cell_type": "code",
   "execution_count": 18,
   "id": "b2f6af61-a869-46f8-80f6-b585b0677fdb",
   "metadata": {},
   "outputs": [
    {
     "name": "stdin",
     "output_type": "stream",
     "text": [
      "sayi giriniz 5\n"
     ]
    },
    {
     "name": "stdout",
     "output_type": "stream",
     "text": [
      "tebrikler\n"
     ]
    }
   ],
   "source": [
    "sayi = int(input(\"sayi giriniz\"))\n",
    "random = 5\n",
    "if sayi == random:\n",
    "    print(\"tebrikler\")\n",
    "else :\n",
    "    print(\"tekrar deneyınız\")"
   ]
  },
  {
   "cell_type": "code",
   "execution_count": 60,
   "id": "e1af8a15-13e5-49a0-bb0c-b3cdd288717b",
   "metadata": {},
   "outputs": [
    {
     "name": "stdin",
     "output_type": "stream",
     "text": [
      "sayigiriniz 19\n"
     ]
    }
   ],
   "source": [
    "sayi = int(input(\"sayigiriniz\"))\n",
    "for i in range(2,10,+1):\n",
    "    if 0==sayi%i:\n",
    "        print(\"asal değil\")\n",
    "        break\n",
    "    else:\n",
    "        continue\n",
    "\n"
   ]
  },
  {
   "cell_type": "code",
   "execution_count": 28,
   "id": "3da02362-f628-4891-871e-f3ab169e9a02",
   "metadata": {},
   "outputs": [
    {
     "name": "stdout",
     "output_type": "stream",
     "text": [
      "\n",
      "      1-toplama\n",
      "      2-çıkarma\n",
      "      3-çarpma\n",
      "      4-bölme\n",
      "      5-mod alma\n",
      "      6-kuvvet\n",
      "      7-kök\n",
      "      8-faktöriyel\n",
      "      \n"
     ]
    },
    {
     "name": "stdin",
     "output_type": "stream",
     "text": [
      "işlem seçiniz 8\n",
      "1.sayıyı giriniz 4\n",
      "2.sayıyı giriniz 2\n"
     ]
    },
    {
     "name": "stdout",
     "output_type": "stream",
     "text": [
      "4  !  2 = 24\n"
     ]
    }
   ],
   "source": [
    "import math\n",
    "menu=\"\"\"\n",
    "      1-toplama\n",
    "      2-çıkarma\n",
    "      3-çarpma\n",
    "      4-bölme\n",
    "      5-mod alma\n",
    "      6-kuvvet\n",
    "      7-kök\n",
    "      8-faktöriyel\n",
    "      \"\"\"\n",
    "print(menu)\n",
    "secim= int(input(\"işlem seçiniz\"))\n",
    "sayi1= int(input(\"1.sayıyı giriniz\"))\n",
    "sayi2= int(input(\"2.sayıyı giriniz\"))\n",
    "\n",
    "if secim==1:\n",
    "      print(f\"{sayi1} + {sayi2} = {sayi1+sayi2}\")\n",
    "elif secim==2:\n",
    "      print(f\"{sayi1} - {sayi2} = {sayi1-sayi2}\")   \n",
    "elif secim==3:\n",
    "      print(f\"{sayi1} * {sayi2} = {sayi1*sayi2}\") \n",
    "elif secim==4:\n",
    "      print(f\"{sayi1} / {sayi2} = {sayi1/sayi2}\") \n",
    "elif secim==5:\n",
    "      print(f\"{sayi1} % {sayi2} = {sayi1%sayi2}\") \n",
    "elif secim==6:\n",
    "      print(f\"{sayi1} ** {sayi2} = {pow(sayi1,sayi2)}\") \n",
    "elif secim==7:\n",
    "      print(f\"√{sayi1}  = {math.sqrt(sayi1)}\") \n",
    "elif secim==8:\n",
    "      toplam = 1\n",
    "      for i in range(1,sayi1+1,+1):\n",
    "            toplam *=i \n",
    "      print(f\"{sayi1}!  = {toplam}\") \n",
    "    "
   ]
  },
  {
   "cell_type": "raw",
   "id": "91820344-2f3a-44fd-9c67-fdab91d88d2a",
   "metadata": {},
   "source": [
    "#789,674,342\n",
    "#dokuz milyon altı yüz yetmiş dört bin üç yüz kırk iki\n",
    "9674342"
   ]
  },
  {
   "cell_type": "code",
   "execution_count": 247,
   "id": "7d9a7b67-55c7-4c29-be46-a650a77bd210",
   "metadata": {},
   "outputs": [
    {
     "name": "stdin",
     "output_type": "stream",
     "text": [
      "lütfen sayınızı giriniz  9876541\n"
     ]
    },
    {
     "name": "stdout",
     "output_type": "stream",
     "text": [
      "['dokuz', 'milyon', 'sekiz', 'yüz', 'yetmiş', 'altı', 'bin', 'beş', 'yüz', 'kırk', 'bir']\n"
     ]
    }
   ],
   "source": [
    "sayi = int(input(\"lütfen sayınızı giriniz \")) \n",
    "a=0\n",
    "list=[]\n",
    "my_dict = {\n",
    "        0: \"\",\n",
    "        1: \"bir\",\n",
    "        2: \"iki\",\n",
    "        3: \"üç\",\n",
    "        4: \"dört\",\n",
    "        5: \"beş\",\n",
    "        6: \"altı\",\n",
    "        7: \"yedi\",\n",
    "        8: \"sekiz\",\n",
    "        9: \"dokuz\",\n",
    "}\n",
    "my_dict1 = {\n",
    "        0: \"\",\n",
    "        1: \"on\",\n",
    "        2: \"yirmi\",\n",
    "        3: \"otuz\",\n",
    "        4: \"kırk\",\n",
    "        5: \"elli\",\n",
    "        6: \"altmış\",\n",
    "        7: \"yetmiş\",\n",
    "        8: \"seksen\",\n",
    "        9: \"doksan\",\n",
    "}\n",
    "while sayi != 0:\n",
    "    a+=1\n",
    "    rakam =sayi % 10\n",
    "    sayi = sayi //10\n",
    "    if a==7:\n",
    "        list.append(\"milyon\")\n",
    "    if a==4:\n",
    "        list.append(\"bin\")\n",
    "    if a==3 or a==6 or a==9:\n",
    "        list.append(\"yüz\")\n",
    "        if rakam==1 :\n",
    "            continue\n",
    "    if a==2 or a==5 or a==8:\n",
    "        list.append(my_dict1.get(rakam))\n",
    "    else:\n",
    "        list.append(my_dict.get(rakam)) \n",
    "list.reverse()\n",
    "print(list)"
   ]
  },
  {
   "cell_type": "code",
   "execution_count": 148,
   "id": "a976e9c9-1748-464b-aef9-468eb03fcefb",
   "metadata": {},
   "outputs": [
    {
     "name": "stdout",
     "output_type": "stream",
     "text": [
      "[5, 4, 3, 2, 1]\n"
     ]
    }
   ],
   "source": [
    "my_list = [1, 2, 3, 4, 5]\n",
    "# Listeyi ters çevirme\n",
    "my_list.reverse()\n",
    "print(my_list)"
   ]
  },
  {
   "cell_type": "code",
   "execution_count": null,
   "id": "705f221f-43fe-4533-871b-9967691de8a3",
   "metadata": {},
   "outputs": [],
   "source": []
  }
 ],
 "metadata": {
  "kernelspec": {
   "display_name": "Python 3 (ipykernel)",
   "language": "python",
   "name": "python3"
  },
  "language_info": {
   "codemirror_mode": {
    "name": "ipython",
    "version": 3
   },
   "file_extension": ".py",
   "mimetype": "text/x-python",
   "name": "python",
   "nbconvert_exporter": "python",
   "pygments_lexer": "ipython3",
   "version": "3.12.4"
  }
 },
 "nbformat": 4,
 "nbformat_minor": 5
}
